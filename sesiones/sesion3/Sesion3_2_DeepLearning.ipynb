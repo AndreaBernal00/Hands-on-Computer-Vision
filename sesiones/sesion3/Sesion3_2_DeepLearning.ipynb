{
  "cells": [
    {
      "cell_type": "markdown",
      "metadata": {
        "id": "SpNjf8W-LW3j"
      },
      "source": [
        "![banner](https://github.com/AndreaBernal00/Hands-on-Computer-Vision/blob/main/sesiones/sesion3/banner.png?raw=1)\n"
      ]
    },
    {
      "cell_type": "markdown",
      "metadata": {
        "id": "AcRZEsRLRwiG"
      },
      "source": [
        "# 🖥️✨ **Librerias importantes de Visión por Computadora**  \n",
        "\n",
        "🔹 **TorchVision** - Base principal para tareas de visión por computadora.  \n",
        "📂 **torchvision.datasets** - Accede a conjuntos de datos y carga de datos para visión por computadora.  \n",
        "🤖 **torchvision.models** - Modelos pre-entrenados listos para usar en tareas de visión por computadora.  \n",
        "🎨 **torchvision.transforms** - Transformaciones para el procesamiento de imágenes.  \n",
        "📦 **torch.utils.data.Dataset** - Clase base para crear conjuntos de datos en PyTorch.  \n",
        "🔄 **torch.utils.data.DataLoader** - Crea un iterable en Python para recorrer un conjunto de datos.  \n"
      ]
    },
    {
      "cell_type": "code",
      "execution_count": 1,
      "metadata": {
        "id": "xjOhv5DTQ-ee"
      },
      "outputs": [],
      "source": [
        "## @title Librerias importantes\n",
        "import torch\n",
        "from torch import nn\n",
        "import matplotlib.pyplot as plt\n",
        "import torchvision\n",
        "from torchvision import datasets\n",
        "from torchvision import transforms\n",
        "from torchvision.transforms import ToTensor\n",
        "from torch.utils.data import DataLoader"
      ]
    },
    {
      "cell_type": "code",
      "execution_count": 2,
      "metadata": {
        "id": "v1BknNLjXNPy"
      },
      "outputs": [],
      "source": [
        "## @title Primer Modelo\n",
        "import torch.nn as nn\n",
        "\n",
        "class ModelCV(nn.Module):\n",
        "    def __init__(self, input_shape: int, hidden_units: int, output_shape: int):\n",
        "        super().__init__()\n",
        "\n",
        "        self.flatten = nn.Flatten()\n",
        "        self.fc1 = nn.Linear(in_features=input_shape, out_features=hidden_units)\n",
        "        self.relu = nn.ReLU() # Funcion de activacion\n",
        "        self.fc2 = nn.Linear(in_features=hidden_units, out_features=output_shape)\n",
        "\n",
        "    def forward(self, x):\n",
        "        # x = self.flatten(x)\n",
        "        # x = self.fc1(x)\n",
        "        # x = self.fc2(x)\n",
        "        # return x\n",
        "        return self.fc2(self.relu(self.fc1(self.flatten(x))))"
      ]
    },
    {
      "cell_type": "code",
      "execution_count": 3,
      "metadata": {
        "colab": {
          "base_uri": "https://localhost:8080/"
        },
        "id": "lTLYmA0_Xt0W",
        "outputId": "6fd63dde-1abc-4a5b-8225-7affdf7dd213"
      },
      "outputs": [
        {
          "output_type": "execute_result",
          "data": {
            "text/plain": [
              "ModelCV(\n",
              "  (flatten): Flatten(start_dim=1, end_dim=-1)\n",
              "  (fc1): Linear(in_features=1, out_features=10, bias=True)\n",
              "  (relu): ReLU()\n",
              "  (fc2): Linear(in_features=10, out_features=1, bias=True)\n",
              ")"
            ]
          },
          "metadata": {},
          "execution_count": 3
        }
      ],
      "source": [
        "model = ModelCV(input_shape=1, hidden_units=10, output_shape=1)\n",
        "# model.state_dict()\n",
        "model"
      ]
    },
    {
      "cell_type": "markdown",
      "metadata": {
        "id": "HvZqyhGGYpIy"
      },
      "source": [
        "# 🎛️ Capas Convolucionales (Convolutional Layers)\n",
        "\n",
        "🛠️ **Parámetros clave:**  \n",
        "- 🏗️ **Tamaño del kernel:** Define la región de la imagen que analiza cada filtro.  \n",
        "- ⚙️ **Stride (desplazamiento):** Determina cuánto se mueve el filtro en cada paso.  \n",
        "- 🔲 **Padding:** Agrega píxeles alrededor de la imagen para mantener su tamaño.\n",
        "\n",
        "https://poloclub.github.io/cnn-explainer/"
      ]
    },
    {
      "cell_type": "code",
      "execution_count": 4,
      "metadata": {
        "id": "wE8faji6YoZ1"
      },
      "outputs": [],
      "source": [
        "# Cambia las partes que digan \"FIXME\"\n",
        "class ModelCV2(nn.Module):\n",
        "  def __init__(self, input_shape: int, hidden_units: int, output_shape: int):\n",
        "    super().__init__()\n",
        "    self.conv1 = nn.Conv2d(in_channels=input_shape, out_channels=hidden_units, kernel_size=3, stride=1, padding=0)\n",
        "    self.relu1 = nn.ReLU() # cambialo si quieres\n",
        "    self.flatten = nn.Flatten()\n",
        "    self.fc1 = nn.Linear(in_features=26*26*hidden_units, out_features=hidden_units)\n",
        "    self.relu2 = nn.ReLU()\n",
        "    self.fc2 = nn.Linear(in_features=hidden_units, out_features=output_shape)\n",
        "\n",
        "  def forward(self, x):\n",
        "    return self.fc2(self.relu2(self.fc1(self.flatten(self.relu1(self.conv1(x))))))"
      ]
    },
    {
      "cell_type": "markdown",
      "metadata": {
        "id": "gN9jjMI5BlOG"
      },
      "source": [
        "## 📂 Obteniendo un Dataset  \n",
        "\n",
        "El dataset que utilizaremos es **Fashion MNIST**, proveniente de `torchvision.datasets`.  \n",
        "\n",
        "🛍️ **Fashion MNIST** es una colección de imágenes en escala de grises que representa diferentes categorías de ropa y accesorios. Es una alternativa moderna al clásico **MNIST** de dígitos escritos a mano.  \n",
        "\n",
        "📌 **Fuente:** `torchvision.datasets`  \n"
      ]
    },
    {
      "cell_type": "code",
      "execution_count": 5,
      "metadata": {
        "colab": {
          "base_uri": "https://localhost:8080/"
        },
        "id": "M2CHxsV6Bi__",
        "outputId": "c951b800-a20d-452d-98f9-6dca5426daa1"
      },
      "outputs": [
        {
          "output_type": "stream",
          "name": "stderr",
          "text": [
            "100%|██████████| 26.4M/26.4M [00:02<00:00, 8.93MB/s]\n",
            "100%|██████████| 29.5k/29.5k [00:00<00:00, 132kB/s]\n",
            "100%|██████████| 4.42M/4.42M [00:01<00:00, 2.50MB/s]\n",
            "100%|██████████| 5.15k/5.15k [00:00<00:00, 11.1MB/s]\n"
          ]
        }
      ],
      "source": [
        "#Training y Testing Data\n",
        "train_data = datasets.FashionMNIST(root = \"data\",\n",
        "                                   train=True, # train dataset\n",
        "                                   download = True,\n",
        "                                   transform = ToTensor(), # posibles transformaciones\n",
        "                                   target_transform=None\n",
        "                                   )\n",
        "\n",
        "test_data = datasets.FashionMNIST(root=\"data\",\n",
        "                                  train=False,\n",
        "                                  download=True,\n",
        "                                  transform=ToTensor(),\n",
        "                                  target_transform=None\n",
        "                                  )"
      ]
    },
    {
      "cell_type": "code",
      "execution_count": 8,
      "metadata": {
        "colab": {
          "base_uri": "https://localhost:8080/"
        },
        "id": "uDicEdtPB5-a",
        "outputId": "7b579da7-ce8a-4e1b-bed0-dd9e6f82210c"
      },
      "outputs": [
        {
          "output_type": "execute_result",
          "data": {
            "text/plain": [
              "['T-shirt/top',\n",
              " 'Trouser',\n",
              " 'Pullover',\n",
              " 'Dress',\n",
              " 'Coat',\n",
              " 'Sandal',\n",
              " 'Shirt',\n",
              " 'Sneaker',\n",
              " 'Bag',\n",
              " 'Ankle boot']"
            ]
          },
          "metadata": {},
          "execution_count": 8
        }
      ],
      "source": [
        "class_names = train_data.classes\n",
        "class_names"
      ]
    },
    {
      "cell_type": "code",
      "execution_count": 9,
      "metadata": {
        "colab": {
          "base_uri": "https://localhost:8080/",
          "height": 445
        },
        "id": "nTbRcga1B753",
        "outputId": "6d8a0f73-25e2-4135-d852-077745bcb378"
      },
      "outputs": [
        {
          "output_type": "stream",
          "name": "stdout",
          "text": [
            "image shape: torch.Size([1, 28, 28])\n"
          ]
        },
        {
          "output_type": "display_data",
          "data": {
            "text/plain": [
              "<Figure size 640x480 with 1 Axes>"
            ],
            "image/png": "[encoded data removed]"
          },
          "metadata": {}
        }
      ],
      "source": [
        "image, label = train_data[0] # Visualizacion\n",
        "print(f\"image shape: {image.shape}\") # dimension de una imagen\n",
        "plt.imshow(image.squeeze())\n",
        "plt.title(class_names[label])\n",
        "plt.axis(\"off\")\n",
        "plt.show()"
      ]
    },
    {
      "cell_type": "markdown",
      "metadata": {
        "id": "cvr5u1IjJ34_"
      },
      "source": [
        "### 👀 Visualización del Dataset  \n",
        "\n",
        "Para entender mejor los datos, vamos a visualizar algunas imágenes del **Fashion MNIST**.  \n",
        "\n",
        "🎨 Vamos a graficar algunas muestras para observar su apariencia y distribución.  \n"
      ]
    },
    {
      "cell_type": "code",
      "execution_count": 10,
      "metadata": {
        "colab": {
          "base_uri": "https://localhost:8080/",
          "height": 752
        },
        "id": "nvvHxcVKCPLS",
        "outputId": "d3fe2c94-dc41-4107-f0bf-5a1bc002a215"
      },
      "outputs": [
        {
          "output_type": "display_data",
          "data": {
            "text/plain": [
              "<Figure size 900x900 with 9 Axes>"
            ],
            "image/png": "[encoded data removed]"
          },
          "metadata": {}
        }
      ],
      "source": [
        "#VISUALIZE VISUALIZE VISUALIZE\n",
        "torch.manual_seed(42)\n",
        "\n",
        "fig = plt.figure(figsize=(9,9))\n",
        "rows, cols = 3, 3 # cuantas imagenes quieras ver...\n",
        "for i in range(1, rows*cols+1):\n",
        "  random_idx = torch.randint(0, len(train_data), size=[1]).item()\n",
        "  img, label = train_data[random_idx]\n",
        "  fig.add_subplot(rows, cols, i)\n",
        "  plt.imshow(img.squeeze(), cmap=\"gray\")\n",
        "  plt.title(class_names[label])\n",
        "  plt.axis(False)"
      ]
    },
    {
      "cell_type": "code",
      "execution_count": 11,
      "metadata": {
        "colab": {
          "base_uri": "https://localhost:8080/"
        },
        "id": "dsL9t4L-CZwk",
        "outputId": "ddcab4b8-858b-46ae-aa40-4a861540f7dc"
      },
      "outputs": [
        {
          "output_type": "execute_result",
          "data": {
            "text/plain": [
              "(Dataset FashionMNIST\n",
              "     Number of datapoints: 60000\n",
              "     Root location: data\n",
              "     Split: Train\n",
              "     StandardTransform\n",
              " Transform: ToTensor(),\n",
              " Dataset FashionMNIST\n",
              "     Number of datapoints: 10000\n",
              "     Root location: data\n",
              "     Split: Test\n",
              "     StandardTransform\n",
              " Transform: ToTensor())"
            ]
          },
          "metadata": {},
          "execution_count": 11
        }
      ],
      "source": [
        "train_data, test_data"
      ]
    },
    {
      "cell_type": "markdown",
      "metadata": {
        "id": "MAU2uwhWMhcy"
      },
      "source": [
        "### 🚂 TrainDataloader y TestDataloader  \n",
        "\n",
        "Para entrenar y evaluar nuestro modelo, necesitamos **dataloaders** que nos ayuden a manejar los datos de manera eficiente.  \n",
        "\n",
        "🔄 **TrainDataloader**:  \n",
        "Se encarga de cargar los datos de entrenamiento en **lotes (batches)**, permitiendo el procesamiento en paralelo y la optimización del rendimiento.  \n",
        "\n",
        "🧪 **TestDataloader**:  \n",
        "Nos permite evaluar el modelo con datos de prueba para medir su precisión y rendimiento.  \n",
        "\n",
        "📌 Estos dataloaders provienen de `torch.utils.data.DataLoader`, que facilita la iteración sobre los datasets de `torchvision.datasets`.  \n"
      ]
    },
    {
      "cell_type": "code",
      "execution_count": 12,
      "metadata": {
        "colab": {
          "base_uri": "https://localhost:8080/"
        },
        "id": "ANqU18hECf_N",
        "outputId": "bcd8b149-8bb6-4367-d1d1-74b9b2bf602d"
      },
      "outputs": [
        {
          "output_type": "execute_result",
          "data": {
            "text/plain": [
              "(<torch.utils.data.dataloader.DataLoader at 0x7ea093b07d50>,\n",
              " <torch.utils.data.dataloader.DataLoader at 0x7ea093d189d0>)"
            ]
          },
          "metadata": {},
          "execution_count": 12
        }
      ],
      "source": [
        "BATCH_SIZE = 32 # Numero de imagenes por Batch\n",
        "\n",
        "#turn datasets into iterables (batches)\n",
        "\n",
        "train_dataloader = DataLoader(dataset = train_data,\n",
        "                          batch_size = BATCH_SIZE,\n",
        "                          shuffle=True)\n",
        "test_dataloader = DataLoader(dataset = test_data,\n",
        "                         batch_size = BATCH_SIZE,\n",
        "                         shuffle = False)\n",
        "\n",
        "train_dataloader, test_dataloader"
      ]
    },
    {
      "cell_type": "code",
      "execution_count": 13,
      "metadata": {
        "colab": {
          "base_uri": "https://localhost:8080/"
        },
        "id": "ylPuFxH4ClgW",
        "outputId": "3bb50670-885f-4a91-aea8-1ef9859f072a"
      },
      "outputs": [
        {
          "output_type": "stream",
          "name": "stdout",
          "text": [
            "DataLoaders: (<torch.utils.data.dataloader.DataLoader object at 0x7ea093b07d50>, <torch.utils.data.dataloader.DataLoader object at 0x7ea093b07d50>)\n",
            "Length of train_dataloader: 1875 batches of 32...\n",
            "Length of test_dataloader: 313 batches of 32...\n"
          ]
        }
      ],
      "source": [
        "# Veamos lo que acabamos de crear\n",
        "\n",
        "print(f\"DataLoaders: {train_dataloader,train_dataloader }\")\n",
        "print(f\"Length of train_dataloader: {len(train_dataloader)} batches of {BATCH_SIZE}...\")\n",
        "print(f\"Length of test_dataloader: {len(test_dataloader)} batches of {BATCH_SIZE}...\")"
      ]
    },
    {
      "cell_type": "code",
      "execution_count": 14,
      "metadata": {
        "colab": {
          "base_uri": "https://localhost:8080/"
        },
        "id": "a8a4WqNUCpMf",
        "outputId": "ed4351b7-b0bb-41e6-a6bc-e09f5a8b9ca8"
      },
      "outputs": [
        {
          "output_type": "execute_result",
          "data": {
            "text/plain": [
              "(torch.Size([32, 1, 28, 28]), torch.Size([32]))"
            ]
          },
          "metadata": {},
          "execution_count": 14
        }
      ],
      "source": [
        "# veamos que hay dentro del traindataloader\n",
        "train_features_batch, train_labels_batch = next(iter(train_dataloader))\n",
        "train_features_batch.shape, train_labels_batch.shape"
      ]
    },
    {
      "cell_type": "code",
      "execution_count": null,
      "metadata": {
        "id": "-onsQVbSrdsc"
      },
      "outputs": [],
      "source": [
        "# img_prueba = torch.rand(size=(32,1,28,28))\n",
        "# print(img_prueba.shape)\n",
        "# labels_len = len(class_names)\n",
        "# model = ModelCV2(input_shape=1, hidden_units=64, output_shape=labels_len)\n",
        "# salida = model(img_prueba)"
      ]
    },
    {
      "cell_type": "code",
      "execution_count": 15,
      "metadata": {
        "id": "psdl-jBTrehK",
        "outputId": "3404a4d3-de2b-4f77-d24f-57cc7ee55273",
        "colab": {
          "base_uri": "https://localhost:8080/"
        }
      },
      "outputs": [
        {
          "output_type": "execute_result",
          "data": {
            "text/plain": [
              "ModelCV2(\n",
              "  (conv1): Conv2d(1, 64, kernel_size=(3, 3), stride=(1, 1))\n",
              "  (relu1): ReLU()\n",
              "  (flatten): Flatten(start_dim=1, end_dim=-1)\n",
              "  (fc1): Linear(in_features=43264, out_features=64, bias=True)\n",
              "  (relu2): ReLU()\n",
              "  (fc2): Linear(in_features=64, out_features=10, bias=True)\n",
              ")"
            ]
          },
          "metadata": {},
          "execution_count": 15
        }
      ],
      "source": [
        "model = ModelCV2(input_shape=1, hidden_units=64, output_shape=len(class_names))\n",
        "model"
      ]
    },
    {
      "cell_type": "markdown",
      "metadata": {
        "id": "vVZgfogoMs2z"
      },
      "source": [
        "## 🎯 Elección de la Función de Pérdida y el Optimizador  \n",
        "\n",
        "Para entrenar nuestra red neuronal, necesitamos definir:\n",
        "\n",
        "📌 En PyTorch, podemos encontrar múltiples opciones en `torch.nn` (para la pérdida) y `torch.optim` (para el optimizador).  "
      ]
    },
    {
      "cell_type": "code",
      "execution_count": 16,
      "metadata": {
        "id": "z7zvzwyErjO3"
      },
      "outputs": [],
      "source": [
        "loss_fn = nn.CrossEntropyLoss()\n",
        "optimizer = torch.optim.SGD(params = model.parameters(), lr = 0.1)"
      ]
    },
    {
      "cell_type": "code",
      "execution_count": 17,
      "metadata": {
        "id": "Ozgtwf7BvjoU",
        "outputId": "a3341ea9-76f7-476b-9e79-0dd02b1f2c97",
        "colab": {
          "base_uri": "https://localhost:8080/",
          "height": 35
        }
      },
      "outputs": [
        {
          "output_type": "execute_result",
          "data": {
            "text/plain": [
              "'cpu'"
            ],
            "application/vnd.google.colaboratory.intrinsic+json": {
              "type": "string"
            }
          },
          "metadata": {},
          "execution_count": 17
        }
      ],
      "source": [
        "# Agnostic Code\n",
        "device = \"cuda\" if torch.cuda.is_available() else \"cpu\"\n",
        "device"
      ]
    },
    {
      "cell_type": "code",
      "execution_count": 18,
      "metadata": {
        "id": "q_eGeCfPviJs"
      },
      "outputs": [],
      "source": [
        "# NO modifiques esta celda ♥\n",
        "def accuracy_fn(y_true, y_pred):\n",
        "  correct = torch.eq(y_true, y_pred).sum().item()\n",
        "  acc = (correct/len(y_pred)) * 100\n",
        "  return acc"
      ]
    },
    {
      "cell_type": "markdown",
      "metadata": {
        "id": "C9TLWnjcNC_L"
      },
      "source": [
        "# 🚀 Entrenamiento del Modelo  \n",
        "\n",
        "Ahora entrenaremos nuestra red neuronal para que aprenda a clasificar las imágenes del dataset.  \n",
        "\n",
        "🔄 **Proceso de entrenamiento:**  \n",
        "1️⃣ Se envían imágenes al modelo.  \n",
        "2️⃣ El modelo realiza predicciones.  \n",
        "3️⃣ Se calcula la **pérdida (loss)** comparando predicciones con etiquetas reales.  \n",
        "4️⃣ Se ajustan los pesos con el **optimizador**.  \n",
        "5️⃣ Se repite el proceso en varias **épocas (epochs)** hasta mejorar el desempeño.  \n"
      ]
    },
    {
      "cell_type": "code",
      "execution_count": 19,
      "metadata": {
        "id": "x7SmLESZtObr",
        "outputId": "5527043e-2a2a-4b25-c064-cd2418a44311",
        "colab": {
          "base_uri": "https://localhost:8080/",
          "height": 66,
          "referenced_widgets": [
            "521975311f9344008a769e9e64d8017c",
            "9ac46ab111524c5db2ea7b3cc43adb9c",
            "e37c7ccdc45f4106aa14c5f6b6133401",
            "bfcc1d94320842c2a36f9eecf788f422",
            "3e88ac58d9c5415c86e1c4600fb10989",
            "bbac78127f8c4050898c3e18a5d4f831",
            "7130990077e8446a8ab3b7aa05c7a0e3",
            "0ade454073f84162b3c6325ac1e1857b",
            "5cea8615fe8345fea26532e8667a956a",
            "722ecc277b974809a6630a2fae37c399",
            "97a250ed847344aeb998d74bb1b962cc"
          ]
        }
      },
      "outputs": [
        {
          "output_type": "display_data",
          "data": {
            "text/plain": [
              "  0%|          | 0/1 [00:00<?, ?it/s]"
            ],
            "application/vnd.jupyter.widget-view+json": {
              "version_major": 2,
              "version_minor": 0,
              "model_id": "521975311f9344008a769e9e64d8017c"
            }
          },
          "metadata": {}
        },
        {
          "output_type": "stream",
          "name": "stdout",
          "text": [
            "epoch: 0 | Train loss: 0.49852, train acc: 81.53 | Test loss: 0.37116, test acc: 86.65\n"
          ]
        }
      ],
      "source": [
        "from tqdm.auto import tqdm\n",
        "torch.manual_seed(42)\n",
        "epochs = 1\n",
        "\n",
        "for epoch in tqdm(range(epochs)):\n",
        "  train_loss = 0\n",
        "  train_acc = 0\n",
        "  for batch, (X_train, y_train) in enumerate(train_dataloader):\n",
        "    model.train()\n",
        "    X_train, y_train = X_train.to(device), y_train.to(device)\n",
        "    y_train_logits = model(X_train) #forward pass\n",
        "\n",
        "    # calculamos la funcion de perdida\n",
        "    loss = loss_fn(y_train_logits, y_train)\n",
        "    train_loss += loss\n",
        "    train_acc += accuracy_fn(y_true = y_train, y_pred = y_train_logits.argmax(dim=1))\n",
        "    # optimizer zero grad\n",
        "    optimizer.zero_grad()\n",
        "    # retropropagacion\n",
        "    loss.backward()\n",
        "    # optimizer step step step\n",
        "    optimizer.step()\n",
        "  train_loss /= len(train_dataloader)\n",
        "  train_acc /= len(train_dataloader)\n",
        "  model.eval()\n",
        "  with torch.no_grad():\n",
        "    test_loss = 0\n",
        "    test_acc = 0\n",
        "    for X_test, y_test in test_dataloader:\n",
        "      X_test, y_test = X_test.to(device), y_test.to(device)\n",
        "      #forward pass\n",
        "      y_test_logits = model(X_test)\n",
        "      # calcular la loss\n",
        "      test_loss += loss_fn(y_test_logits, y_test)\n",
        "      test_acc += accuracy_fn(y_true = y_test, y_pred = y_test_logits.argmax(dim=1))\n",
        "    test_loss /= len(test_dataloader)\n",
        "    test_acc /= len(test_dataloader)\n",
        "  print(f\"epoch: {epoch} | Train loss: {train_loss:.5f}, train acc: {train_acc:.2f} | Test loss: {test_loss:.5f}, test acc: {test_acc:.2f}\")"
      ]
    },
    {
      "cell_type": "markdown",
      "metadata": {
        "id": "0pvwP0_2NPnx"
      },
      "source": [
        "# 📊 Evaluación del Modelo  \n",
        "\n",
        "Después del entrenamiento, es momento de evaluar el desempeño de nuestra red neuronal.  \n",
        "\n",
        "🛠️ **Proceso de evaluación:**  \n",
        "1️⃣ Se usa el **TestDataloader** para pasar imágenes de prueba al modelo.  \n",
        "2️⃣ Se comparan las predicciones con las etiquetas reales.  \n",
        "3️⃣ Se calcula la **precisión (accuracy)** y otras métricas de rendimiento.  \n",
        "\n",
        "📌 Esto nos ayuda a entender si el modelo **generaliza bien** o si necesita mejoras.  "
      ]
    },
    {
      "cell_type": "code",
      "execution_count": 24,
      "metadata": {
        "id": "EDF1QNqnvULg",
        "outputId": "7c116612-5e4a-45de-f4d1-fd180287b3f7",
        "colab": {
          "base_uri": "https://localhost:8080/",
          "height": 101,
          "referenced_widgets": [
            "101a69391cbe4b9e8d06e94a3659fdcc",
            "1002fb5909c643778c9386d08338cb40",
            "2383a1f567d84aec93d714ebf09b9197",
            "3dc0666cba204b05bcfb1ef70af4abb1",
            "229f88128fc947239ce20e56d6da7fcd",
            "87b58327a15449a6bf868d3de39699fb",
            "02cdaa9b8d384b03adab6411e6a6de41",
            "7575549cb8b447a7bae780c9facc0717",
            "eaca30cbd80e402a8e79aa65770c96cf",
            "2f44762e488b4bc3a0f145b426871b6b",
            "3c0fb51c4c464eaea088d8fdd216ba87"
          ]
        }
      },
      "outputs": [
        {
          "output_type": "display_data",
          "data": {
            "text/plain": [
              "  0%|          | 0/313 [00:00<?, ?it/s]"
            ],
            "application/vnd.jupyter.widget-view+json": {
              "version_major": 2,
              "version_minor": 0,
              "model_id": "101a69391cbe4b9e8d06e94a3659fdcc"
            }
          },
          "metadata": {}
        },
        {
          "output_type": "execute_result",
          "data": {
            "text/plain": [
              "{'model_name': 'ModelCV2',\n",
              " 'model_loss': 0.37116196751594543,\n",
              " 'model_acc': 86.65135782747603}"
            ]
          },
          "metadata": {},
          "execution_count": 24
        }
      ],
      "source": [
        "torch.manual_seed(42)\n",
        "\n",
        "def eval_model(model:torch.nn.Module,\n",
        "               data_loader: torch.utils.data.DataLoader,\n",
        "               loss_fn: torch.nn.Module,\n",
        "               accuracy_fn):\n",
        "    \"\"\" retorna un diccionario que contiene las predicciones del modelo\"\"\"\n",
        "    loss, acc = 0, 0\n",
        "    model.eval()\n",
        "\n",
        "    with torch.no_grad():\n",
        "      for X, y in tqdm(data_loader):\n",
        "        #make predictions\n",
        "        y_pred = model(X)\n",
        "\n",
        "        # Accumulate the loss and acc values per batch\n",
        "\n",
        "        loss += loss_fn(y_pred, y)\n",
        "        acc += accuracy_fn(y_true = y, y_pred = y_pred.argmax(dim=1))\n",
        "      # scale the loss and acc to find the average loss and acc per batch\n",
        "\n",
        "      loss /= len(data_loader)\n",
        "      acc /= len(data_loader)\n",
        "    return {\"model_name\": model.__class__.__name__,\n",
        "            \"model_loss\": loss.item(),\n",
        "            \"model_acc\": acc}\n",
        "model_0_results = eval_model(model=model,\n",
        "                             data_loader = test_dataloader,\n",
        "                             loss_fn =  loss_fn,\n",
        "                             accuracy_fn=accuracy_fn)\n",
        "model_0_results"
      ]
    },
    {
      "cell_type": "markdown",
      "metadata": {
        "id": "VHMUbLLPNkpL"
      },
      "source": [
        "## 🎨 Visualización de las Predicciones del Modelo  \n",
        "\n",
        "Para entender mejor el desempeño del modelo, vamos a **visualizar algunas predicciones**.  \n",
        "\n",
        "📸 **Proceso:**  \n",
        "1️⃣ Tomamos algunas imágenes del conjunto de prueba.  \n",
        "2️⃣ El modelo genera una predicción para cada imagen.  \n",
        "3️⃣ Comparamos la predicción con la etiqueta real.  \n",
        "4️⃣ Mostramos las imágenes junto con sus etiquetas y predicciones.  \n",
        "\n",
        "📌 Esto nos permite identificar posibles **errores** y mejorar el modelo si es necesario.  \n"
      ]
    },
    {
      "cell_type": "code",
      "execution_count": 25,
      "metadata": {
        "id": "V_z3lCdjwrsV"
      },
      "outputs": [],
      "source": [
        "# NO modifiques esta celda ♥\n",
        "def make_predictions(model:torch.nn.Module,\n",
        "                     data: list,\n",
        "                     device: torch.device = device):\n",
        "  pred_probs = []\n",
        "  model.to(device)\n",
        "  model.eval()\n",
        "  with torch.no_grad():\n",
        "    for sample in data:\n",
        "      #add a bacth dimension and pass to target device\n",
        "      sample = torch.unsqueeze(sample, dim=0).to(device)\n",
        "\n",
        "      pred_logit =  model(sample)\n",
        "\n",
        "      pred_prob = torch.softmax(pred_logit.squeeze(), dim=0)\n",
        "\n",
        "      #get pred_prob off the gpu\n",
        "      pred_probs.append(pred_prob.cpu())\n",
        "\n",
        "  #stack the pred_probs to turn list into a tensor\n",
        "  return torch.stack(pred_probs)"
      ]
    },
    {
      "cell_type": "code",
      "execution_count": 26,
      "metadata": {
        "id": "69e9M5HNwzCF",
        "outputId": "99dea602-0113-48e2-b3f4-dc3ad50c954c",
        "colab": {
          "base_uri": "https://localhost:8080/"
        }
      },
      "outputs": [
        {
          "output_type": "execute_result",
          "data": {
            "text/plain": [
              "Dataset FashionMNIST\n",
              "    Number of datapoints: 10000\n",
              "    Root location: data\n",
              "    Split: Test\n",
              "    StandardTransform\n",
              "Transform: ToTensor()"
            ]
          },
          "metadata": {},
          "execution_count": 26
        }
      ],
      "source": [
        "test_data"
      ]
    },
    {
      "cell_type": "code",
      "execution_count": 27,
      "metadata": {
        "id": "IALu1obTwz_J",
        "outputId": "d6a4a955-3e0e-44e1-db86-fc97a09b9102",
        "colab": {
          "base_uri": "https://localhost:8080/"
        }
      },
      "outputs": [
        {
          "output_type": "execute_result",
          "data": {
            "text/plain": [
              "torch.Size([1, 28, 28])"
            ]
          },
          "metadata": {},
          "execution_count": 27
        }
      ],
      "source": [
        "import random\n",
        "# random.seed(42)\n",
        "test_samples = []\n",
        "test_labels = []\n",
        "for sample, label in random.sample(list(test_data), k=9):\n",
        "  test_samples.append(sample)\n",
        "  test_labels.append(label)\n",
        "test_samples[0].shape"
      ]
    },
    {
      "cell_type": "code",
      "execution_count": 28,
      "metadata": {
        "id": "REXUjOm-w1Bw",
        "outputId": "4c118b63-ac36-4abd-d1dd-57bdf2a3426f",
        "colab": {
          "base_uri": "https://localhost:8080/",
          "height": 469
        }
      },
      "outputs": [
        {
          "output_type": "execute_result",
          "data": {
            "text/plain": [
              "Text(0.5, 1.0, 'Bag')"
            ]
          },
          "metadata": {},
          "execution_count": 28
        },
        {
          "output_type": "display_data",
          "data": {
            "text/plain": [
              "<Figure size 640x480 with 1 Axes>"
            ],
            "image/png": "[encoded data removed]"
          },
          "metadata": {}
        }
      ],
      "source": [
        "plt.imshow(test_samples[0].squeeze(), cmap=\"gray\")\n",
        "plt.title(class_names[test_labels[0]])"
      ]
    },
    {
      "cell_type": "code",
      "execution_count": 29,
      "metadata": {
        "id": "Z4cR3y97w1_o",
        "outputId": "de019510-44ae-47d3-da6a-e30d681fed98",
        "colab": {
          "base_uri": "https://localhost:8080/"
        }
      },
      "outputs": [
        {
          "output_type": "execute_result",
          "data": {
            "text/plain": [
              "tensor([[9.0405e-04, 4.4649e-05, 1.0272e-03, 4.7324e-04, 2.3040e-03, 1.0468e-03,\n",
              "         8.2639e-04, 1.2703e-03, 9.9155e-01, 5.5187e-04],\n",
              "        [8.8192e-02, 3.0877e-03, 8.2203e-01, 4.9212e-03, 8.5763e-03, 5.2663e-03,\n",
              "         6.6457e-02, 7.4767e-05, 9.2521e-04, 4.7392e-04]])"
            ]
          },
          "metadata": {},
          "execution_count": 29
        }
      ],
      "source": [
        "# Hacemos predicciones\n",
        "pred_probs = make_predictions(model=model,\n",
        "                              data=test_samples,\n",
        "                              )\n",
        "#miremos👀\n",
        "pred_probs[:2]"
      ]
    },
    {
      "cell_type": "code",
      "execution_count": 30,
      "metadata": {
        "id": "EDSPURmHw28A",
        "outputId": "9bd7c69d-31d3-41f7-d3f3-2b27e9d44c24",
        "colab": {
          "base_uri": "https://localhost:8080/"
        }
      },
      "outputs": [
        {
          "output_type": "execute_result",
          "data": {
            "text/plain": [
              "(tensor([8, 2, 4, 7, 0, 7, 4, 4, 8]), [8, 2, 4, 7, 0, 7, 4, 2, 8])"
            ]
          },
          "metadata": {},
          "execution_count": 30
        }
      ],
      "source": [
        "# convertimos las probabilidades a clases\n",
        "pred_class = pred_probs.argmax(dim=1)\n",
        "pred_class, test_labels"
      ]
    },
    {
      "cell_type": "code",
      "execution_count": 31,
      "metadata": {
        "id": "mWnA0nzvw4Yh",
        "outputId": "4fb3ff49-c5eb-440b-fe39-a6fe385d0d2a",
        "colab": {
          "base_uri": "https://localhost:8080/",
          "height": 749
        }
      },
      "outputs": [
        {
          "output_type": "display_data",
          "data": {
            "text/plain": [
              "<Figure size 900x900 with 9 Axes>"
            ],
            "image/png": "[encoded data removed]"
          },
          "metadata": {}
        }
      ],
      "source": [
        "# NO modifiques esta celda ♥\n",
        "plt.figure(figsize=(9,9))\n",
        "nrows = 3\n",
        "ncols = 3\n",
        "for i, sample in enumerate(test_samples):\n",
        "  plt.subplot(nrows, ncols, i+1)\n",
        "\n",
        "  #plot the target image\n",
        "  plt.imshow(sample.squeeze(), cmap = \"gray\")\n",
        "\n",
        "  #find the prediction label\n",
        "  pred_label = class_names[pred_class[i]]\n",
        "\n",
        "  #get the truth label\n",
        "  truth_label = class_names[test_labels[i]]\n",
        "\n",
        "  #create a tittle for the plot\n",
        "  tittle_text = f\"pred: {pred_label} | Truth: {truth_label}\"\n",
        "  if pred_label == truth_label:\n",
        "    plt.title(tittle_text, fontsize=10,c=\"g\")\n",
        "  else:\n",
        "    plt.title(tittle_text, fontsize=10,c=\"r\")\n",
        "  plt.axis(False)"
      ]
    },
    {
      "cell_type": "markdown",
      "metadata": {
        "id": "zFYUIlLKJ-Ac"
      },
      "source": [
        "## 🏗️ Implementación de TinyVGG  \n",
        "\n",
        "Vamos a construir **TinyVGG**, una versión simplificada de **VGGNet**, ideal para tareas de clasificación de imágenes.  \n",
        "\n",
        "⚙️ **Arquitectura de TinyVGG:**  \n",
        "🔹 Capas convolucionales (`Conv2d`) para extraer características.  \n",
        "🔹 Función de activación **ReLU** para introducir no linealidad.  \n",
        "🔹 Capas de **MaxPooling** para reducir la dimensionalidad.  \n",
        "🔹 Capas totalmente conectadas (`Linear`) para clasificar.  \n"
      ]
    },
    {
      "cell_type": "code",
      "execution_count": 32,
      "metadata": {
        "id": "Q_bRWVsrCzVI"
      },
      "outputs": [],
      "source": [
        "#Test yourself try to replicate tinyvgg -> https://poloclub.github.io/cnn-explainer/\n",
        "class FashionMNISTModelV2(nn.Module):\n",
        "  def __init__(self, input_shape, hidden_units, output_shape):\n",
        "    super().__init__()\n",
        "    \"\"\"\n",
        "    Model Architecture that replicates the TinyVGG\n",
        "    model from CNN explainer website\n",
        "    \"\"\"\n",
        "    self.conv_blocl_1 = nn.Sequential(\n",
        "      nn.com\n",
        "    )\n",
        "    self.conv_blocl_2 = nn.Sequential(\n",
        "\n",
        "    )\n",
        "    self.classifier = nn.Sequential(\n",
        "    )\n",
        "\n",
        "  def forward(self,x):\n",
        "    x = self.conv_blocl_1(x)\n",
        "    # print(x.shape)\n",
        "    x = self.conv_blocl_2(x)\n",
        "    # print(x.shape)\n",
        "    x = self.classifier(x)\n",
        "    # print(x.shape)\n",
        "    return x"
      ]
    },
    {
      "cell_type": "code",
      "execution_count": null,
      "metadata": {
        "colab": {
          "base_uri": "https://localhost:8080/"
        },
        "id": "OzYXghxfC1n1",
        "outputId": "c8adb5e8-8e22-4a21-c8c8-40fc7d66ae94"
      },
      "outputs": [
        {
          "data": {
            "text/plain": [
              "torch.Size([1, 28, 28])"
            ]
          },
          "execution_count": 15,
          "metadata": {},
          "output_type": "execute_result"
        }
      ],
      "source": [
        "image.shape"
      ]
    },
    {
      "cell_type": "code",
      "execution_count": 33,
      "metadata": {
        "colab": {
          "base_uri": "https://localhost:8080/",
          "height": 35
        },
        "id": "eNCoeHw4C8a5",
        "outputId": "d52e4ba6-3bf4-4ee2-afea-ef992cabb03d"
      },
      "outputs": [
        {
          "output_type": "execute_result",
          "data": {
            "text/plain": [
              "'cpu'"
            ],
            "application/vnd.google.colaboratory.intrinsic+json": {
              "type": "string"
            }
          },
          "metadata": {},
          "execution_count": 33
        }
      ],
      "source": [
        "device = \"cuda\" if torch.cuda.is_available() else \"cpu\"\n",
        "device"
      ]
    },
    {
      "cell_type": "code",
      "execution_count": 50,
      "metadata": {
        "id": "TMTKkcHHC6cy"
      },
      "outputs": [],
      "source": [
        "torch.manual_seed(42)\n",
        "model_2 = FashionMNISTModelV2(input_shape=1, # canales de la imagen\n",
        "                              hidden_units=10, # numero de filtros\n",
        "                              output_shape=len(class_names)\n",
        "                              ).to(device)\n",
        "# model_2.state_dict()"
      ]
    },
    {
      "cell_type": "markdown",
      "metadata": {
        "id": "iuCzQ7yPKDGR"
      },
      "source": [
        "### Loss function and optimizer"
      ]
    },
    {
      "cell_type": "code",
      "source": [
        "list(model_2.parameters())"
      ],
      "metadata": {
        "id": "pdYCJMkBRIa5",
        "outputId": "5fc82409-8ef6-4e37-c017-22a17a0c3f03",
        "colab": {
          "base_uri": "https://localhost:8080/"
        }
      },
      "execution_count": 51,
      "outputs": [
        {
          "output_type": "execute_result",
          "data": {
            "text/plain": [
              "[]"
            ]
          },
          "metadata": {},
          "execution_count": 51
        }
      ]
    },
    {
      "cell_type": "code",
      "execution_count": 47,
      "metadata": {
        "id": "CzvjWHVPDIGm",
        "outputId": "b42ee986-56a3-4411-af6c-98e6c1a82a96",
        "colab": {
          "base_uri": "https://localhost:8080/",
          "height": 321
        }
      },
      "outputs": [
        {
          "output_type": "error",
          "ename": "ValueError",
          "evalue": "optimizer got an empty parameter list",
          "traceback": [
            "\u001b[0;31m---------------------------------------------------------------------------\u001b[0m",
            "\u001b[0;31mValueError\u001b[0m                                Traceback (most recent call last)",
            "\u001b[0;32m<ipython-input-47-71a503d80138>\u001b[0m in \u001b[0;36m<cell line: 0>\u001b[0;34m()\u001b[0m\n\u001b[1;32m      1\u001b[0m \u001b[0mloss_fn\u001b[0m \u001b[0;34m=\u001b[0m \u001b[0mnn\u001b[0m\u001b[0;34m.\u001b[0m\u001b[0mCrossEntropyLoss\u001b[0m\u001b[0;34m(\u001b[0m\u001b[0;34m)\u001b[0m \u001b[0;31m# <-- ¿Por qué este?\u001b[0m\u001b[0;34m\u001b[0m\u001b[0;34m\u001b[0m\u001b[0m\n\u001b[1;32m      2\u001b[0m \u001b[0;31m#cambialos si quieres\u001b[0m\u001b[0;34m\u001b[0m\u001b[0;34m\u001b[0m\u001b[0m\n\u001b[0;32m----> 3\u001b[0;31m \u001b[0moptimizer\u001b[0m \u001b[0;34m=\u001b[0m \u001b[0mtorch\u001b[0m\u001b[0;34m.\u001b[0m\u001b[0moptim\u001b[0m\u001b[0;34m.\u001b[0m\u001b[0mSGD\u001b[0m\u001b[0;34m(\u001b[0m\u001b[0mparams\u001b[0m\u001b[0;34m=\u001b[0m \u001b[0mmodel_2\u001b[0m\u001b[0;34m.\u001b[0m\u001b[0mparameters\u001b[0m\u001b[0;34m(\u001b[0m\u001b[0;34m)\u001b[0m\u001b[0;34m,\u001b[0m \u001b[0mlr\u001b[0m\u001b[0;34m=\u001b[0m\u001b[0;36m0.2\u001b[0m\u001b[0;34m)\u001b[0m \u001b[0;31m# < -- ¿Por qué este?\u001b[0m\u001b[0;34m\u001b[0m\u001b[0;34m\u001b[0m\u001b[0m\n\u001b[0m",
            "\u001b[0;32m/usr/local/lib/python3.11/dist-packages/torch/optim/sgd.py\u001b[0m in \u001b[0;36m__init__\u001b[0;34m(self, params, lr, momentum, dampening, weight_decay, nesterov, maximize, foreach, differentiable, fused)\u001b[0m\n\u001b[1;32m     61\u001b[0m         \u001b[0;32mif\u001b[0m \u001b[0mnesterov\u001b[0m \u001b[0;32mand\u001b[0m \u001b[0;34m(\u001b[0m\u001b[0mmomentum\u001b[0m \u001b[0;34m<=\u001b[0m \u001b[0;36m0\u001b[0m \u001b[0;32mor\u001b[0m \u001b[0mdampening\u001b[0m \u001b[0;34m!=\u001b[0m \u001b[0;36m0\u001b[0m\u001b[0;34m)\u001b[0m\u001b[0;34m:\u001b[0m\u001b[0;34m\u001b[0m\u001b[0;34m\u001b[0m\u001b[0m\n\u001b[1;32m     62\u001b[0m             \u001b[0;32mraise\u001b[0m \u001b[0mValueError\u001b[0m\u001b[0;34m(\u001b[0m\u001b[0;34m\"Nesterov momentum requires a momentum and zero dampening\"\u001b[0m\u001b[0;34m)\u001b[0m\u001b[0;34m\u001b[0m\u001b[0;34m\u001b[0m\u001b[0m\n\u001b[0;32m---> 63\u001b[0;31m         \u001b[0msuper\u001b[0m\u001b[0;34m(\u001b[0m\u001b[0;34m)\u001b[0m\u001b[0;34m.\u001b[0m\u001b[0m__init__\u001b[0m\u001b[0;34m(\u001b[0m\u001b[0mparams\u001b[0m\u001b[0;34m,\u001b[0m \u001b[0mdefaults\u001b[0m\u001b[0;34m)\u001b[0m\u001b[0;34m\u001b[0m\u001b[0;34m\u001b[0m\u001b[0m\n\u001b[0m\u001b[1;32m     64\u001b[0m \u001b[0;34m\u001b[0m\u001b[0m\n\u001b[1;32m     65\u001b[0m         \u001b[0;32mif\u001b[0m \u001b[0mfused\u001b[0m\u001b[0;34m:\u001b[0m\u001b[0;34m\u001b[0m\u001b[0;34m\u001b[0m\u001b[0m\n",
            "\u001b[0;32m/usr/local/lib/python3.11/dist-packages/torch/optim/optimizer.py\u001b[0m in \u001b[0;36m__init__\u001b[0;34m(self, params, defaults)\u001b[0m\n\u001b[1;32m    370\u001b[0m         \u001b[0mparam_groups\u001b[0m \u001b[0;34m=\u001b[0m \u001b[0mlist\u001b[0m\u001b[0;34m(\u001b[0m\u001b[0mparams\u001b[0m\u001b[0;34m)\u001b[0m\u001b[0;34m\u001b[0m\u001b[0;34m\u001b[0m\u001b[0m\n\u001b[1;32m    371\u001b[0m         \u001b[0;32mif\u001b[0m \u001b[0mlen\u001b[0m\u001b[0;34m(\u001b[0m\u001b[0mparam_groups\u001b[0m\u001b[0;34m)\u001b[0m \u001b[0;34m==\u001b[0m \u001b[0;36m0\u001b[0m\u001b[0;34m:\u001b[0m\u001b[0;34m\u001b[0m\u001b[0;34m\u001b[0m\u001b[0m\n\u001b[0;32m--> 372\u001b[0;31m             \u001b[0;32mraise\u001b[0m \u001b[0mValueError\u001b[0m\u001b[0;34m(\u001b[0m\u001b[0;34m\"optimizer got an empty parameter list\"\u001b[0m\u001b[0;34m)\u001b[0m\u001b[0;34m\u001b[0m\u001b[0;34m\u001b[0m\u001b[0m\n\u001b[0m\u001b[1;32m    373\u001b[0m         \u001b[0;32mif\u001b[0m \u001b[0;32mnot\u001b[0m \u001b[0misinstance\u001b[0m\u001b[0;34m(\u001b[0m\u001b[0mparam_groups\u001b[0m\u001b[0;34m[\u001b[0m\u001b[0;36m0\u001b[0m\u001b[0;34m]\u001b[0m\u001b[0;34m,\u001b[0m \u001b[0mdict\u001b[0m\u001b[0;34m)\u001b[0m\u001b[0;34m:\u001b[0m\u001b[0;34m\u001b[0m\u001b[0;34m\u001b[0m\u001b[0m\n\u001b[1;32m    374\u001b[0m             \u001b[0mparam_groups\u001b[0m \u001b[0;34m=\u001b[0m \u001b[0;34m[\u001b[0m\u001b[0;34m{\u001b[0m\u001b[0;34m\"params\"\u001b[0m\u001b[0;34m:\u001b[0m \u001b[0mparam_groups\u001b[0m\u001b[0;34m}\u001b[0m\u001b[0;34m]\u001b[0m\u001b[0;34m\u001b[0m\u001b[0;34m\u001b[0m\u001b[0m\n",
            "\u001b[0;31mValueError\u001b[0m: optimizer got an empty parameter list"
          ]
        }
      ],
      "source": [
        "loss_fn = nn.CrossEntropyLoss() # <-- ¿Por qué este?\n",
        "#cambialos si quieres\n",
        "optimizer = torch.optim.SGD(params= model_2.parameters(), lr=0.2) # < -- ¿Por qué este?"
      ]
    },
    {
      "cell_type": "code",
      "execution_count": null,
      "metadata": {
        "id": "D5V1_vDpDRPr"
      },
      "outputs": [],
      "source": [
        "# DO NOT change this\n",
        "def accuracy_fn(y_true, y_pred):\n",
        "  correct = torch.eq(y_true, y_pred).sum().item()\n",
        "  acc = (correct/len(y_pred)) * 100\n",
        "  return acc"
      ]
    },
    {
      "cell_type": "markdown",
      "metadata": {
        "id": "BYmkvHNcHpxx"
      },
      "source": [
        "##Train fuction"
      ]
    },
    {
      "cell_type": "code",
      "execution_count": null,
      "metadata": {
        "colab": {
          "base_uri": "https://localhost:8080/",
          "height": 101,
          "referenced_widgets": [
            "c0db828404604adeb42596bd97a01c6a",
            "5d5c1e9a3ce74484b94daa529aadbc6a",
            "81ca36b9233d48099bcdb05d8c61831c",
            "342f9bfc39e54485b5d3fbab076a3247",
            "a890a561a10c4a64918b02a14d53cc20",
            "d288bb5d54f14156bacced56f619cc46",
            "6378856632814f6e8936b129318b7007",
            "9c14bc2afb2e464c96c3c3e952ab5c05",
            "92ac9292267a40a3a3753687175c048c",
            "e00c9127f9e7499998206daebb98dc1f",
            "310ccfb152ec43b09aebc305a5744273"
          ]
        },
        "id": "BiT1ilDNDL9e",
        "outputId": "8257063d-2ce7-475f-8391-9d55238eaf7f"
      },
      "outputs": [
        {
          "data": {
            "application/vnd.jupyter.widget-view+json": {
              "model_id": "c0db828404604adeb42596bd97a01c6a",
              "version_major": 2,
              "version_minor": 0
            },
            "text/plain": [
              "  0%|          | 0/3 [00:00<?, ?it/s]"
            ]
          },
          "metadata": {},
          "output_type": "display_data"
        },
        {
          "name": "stdout",
          "output_type": "stream",
          "text": [
            "epoch: 0 | Train loss: 0.59518, train acc: 78.38 | Test loss: 0.39500, test acc: 85.99\n",
            "epoch: 1 | Train loss: 0.36536, train acc: 86.90 | Test loss: 0.35244, test acc: 86.91\n",
            "epoch: 2 | Train loss: 0.32588, train acc: 88.13 | Test loss: 0.32719, test acc: 88.07\n"
          ]
        }
      ],
      "source": [
        "from tqdm.auto import tqdm\n",
        "torch.manual_seed(42)\n",
        "epochs = \"FIXME\"\n",
        "\n",
        "for epoch in tqdm(range(epochs)):\n",
        "  train_loss = 0\n",
        "  train_acc = 0\n",
        "  for batch, (X_train, y_train) in enumerate(train_dataloader):\n",
        "    \"FIXME\".train()\n",
        "    X_train, y_train = X_train.to(device), y_train.to(device)\n",
        "    y_train_logits = \"FIXME\"(\"FIXME\") #forward pass\n",
        "\n",
        "    # calcula la loss\n",
        "    loss = loss_fn(y_train_logits, y_train)\n",
        "    train_loss += loss\n",
        "    train_acc += accuracy_fn(y_true = y_train, y_pred = y_train_logits.argmax(dim=1))\n",
        "    # optimizer zero grad\n",
        "    \"FIXME\"\n",
        "    # loss backward\n",
        "    \"FIXME\"\n",
        "    # optimizer step step step\n",
        "    \"FIXME\"\n",
        "  train_loss /= len(train_dataloader) # <- Why we should divide?\n",
        "  train_acc /= len(train_dataloader)\n",
        "  \"FIXME\".eval()\n",
        "  with torch.no_grad():\n",
        "    test_loss = 0\n",
        "    test_acc = 0\n",
        "    for X_test, y_test in test_dataloader:\n",
        "      X_test, y_test = X_test.to(device), y_test.to(device)\n",
        "      #do the forward pass\n",
        "      y_test_logits = \"FIXME\"(\"FIXME\")\n",
        "      #calculate the loss\n",
        "      test_loss += loss_fn(y_test_logits, y_test)\n",
        "      test_acc += accuracy_fn(y_true = y_test, y_pred = y_test_logits.argmax(dim=1))\n",
        "    test_loss /= len(\"FIXME\")\n",
        "    test_acc /= len(\"FIXME\")\n",
        "  print(f\"epoch: {epoch} | Train loss: {train_loss:.5f}, train acc: {train_acc:.2f} | Test loss: {test_loss:.5f}, test acc: {test_acc:.2f}\")"
      ]
    },
    {
      "cell_type": "code",
      "execution_count": null,
      "metadata": {
        "colab": {
          "base_uri": "https://localhost:8080/",
          "height": 101,
          "referenced_widgets": [
            "22570d51287140fc955f57d8d2a3bd12",
            "4332b9cf4c994fe29894118de4bb3ede",
            "bcb29d99ace746dfa0a80a9c9d7a49d0",
            "f38df498c2ee49989ec62263d8a80d96",
            "e575d6128bda4569b74052e75db7920e",
            "6c1e7e5b4ff747de9ae0483f24e2f70b",
            "3ab74030e483470b8adc8e7f111a4368",
            "26e3b394a95f4642bea44426f98c22c6",
            "387faf3eef2e498e8b13f901cc65e2eb",
            "b08e986ed9704e62821d28e9f208bc59",
            "a52d4fc179c14b8a9c620ac173f824f7"
          ]
        },
        "id": "i6HO9K35DtxP",
        "outputId": "e0c6baa3-c6c2-4cfd-dbc4-2fa6d608db5e"
      },
      "outputs": [
        {
          "data": {
            "application/vnd.jupyter.widget-view+json": {
              "model_id": "22570d51287140fc955f57d8d2a3bd12",
              "version_major": 2,
              "version_minor": 0
            },
            "text/plain": [
              "  0%|          | 0/313 [00:00<?, ?it/s]"
            ]
          },
          "metadata": {},
          "output_type": "display_data"
        },
        {
          "data": {
            "text/plain": [
              "{'model_name': 'FashionMNISTModelV2',\n",
              " 'model_loss': 0.32718968391418457,\n",
              " 'model_acc': 88.06908945686901}"
            ]
          },
          "execution_count": 21,
          "metadata": {},
          "output_type": "execute_result"
        }
      ],
      "source": [
        "torch.manual_seed(42)\n",
        "\n",
        "def eval_model(model:torch.nn.Module,\n",
        "               data_loader: torch.utils.data.DataLoader,\n",
        "               loss_fn: torch.nn.Module,\n",
        "               accuracy_fn):\n",
        "    \"\"\" returns a dictionary containing the results of model predicting on data_loader\"\"\"\n",
        "    loss, acc = 0, 0\n",
        "    model.eval()\n",
        "\n",
        "    with torch.no_grad():\n",
        "      for X, y in tqdm(data_loader):\n",
        "        #make predictions\n",
        "        y_pred = model(X)\n",
        "\n",
        "        # Accumulate the loss and acc values per batch\n",
        "\n",
        "        loss += loss_fn(y_pred, y)\n",
        "        acc += accuracy_fn(y_true = y, y_pred = y_pred.argmax(dim=1))\n",
        "      # scale the loss and acc to find the average loss and acc per batch\n",
        "\n",
        "      loss /= len(data_loader)\n",
        "      acc /= len(data_loader)\n",
        "    return {\"model_name\": model.__class__.__name__,\n",
        "            \"model_loss\": loss.item(),\n",
        "            \"model_acc\": acc}\n",
        "model_0_results = eval_model(model=\"FIXME\",\n",
        "                             data_loader = test_dataloader,\n",
        "                             loss_fn =  loss_fn,\n",
        "                             accuracy_fn=accuracy_fn)\n",
        "model_0_results"
      ]
    },
    {
      "cell_type": "markdown",
      "metadata": {
        "id": "sy4ffJRXOWse"
      },
      "source": [
        "# 📋 Resumen del Modelo  \n",
        "\n",
        "Después de construir nuestra red, es importante revisar su **estructura y cantidad de parámetros**.  \n",
        "\n",
        "📌 **El resumen del modelo nos muestra:**  \n",
        "🔹 Las capas de la red y sus dimensiones.  \n",
        "🔹 La cantidad de parámetros entrenables.  \n",
        "🔹 La conexión entre cada capa.  \n",
        "\n",
        "✅ En `PyTorch`, podemos usar `print(model)` o `torchsummary.summary(model, input_size=(C, H, W))` para visualizarlo.  \n"
      ]
    },
    {
      "cell_type": "code",
      "execution_count": null,
      "metadata": {
        "id": "eX3UIP4IHNxb"
      },
      "outputs": [],
      "source": [
        "%%capture\n",
        "! pip install torchinfo"
      ]
    },
    {
      "cell_type": "code",
      "execution_count": null,
      "metadata": {
        "colab": {
          "base_uri": "https://localhost:8080/"
        },
        "id": "MfRfhe2EHKoi",
        "outputId": "f611dd4c-31d9-4055-bb6f-651634c71a88"
      },
      "outputs": [
        {
          "data": {
            "text/plain": [
              "=================================================================\n",
              "Layer (type:depth-idx)                   Param #\n",
              "=================================================================\n",
              "FashionMNISTModelV2                      --\n",
              "├─Sequential: 1-1                        --\n",
              "│    └─Conv2d: 2-1                       100\n",
              "│    └─ReLU: 2-2                         --\n",
              "│    └─Conv2d: 2-3                       910\n",
              "│    └─ReLU: 2-4                         --\n",
              "│    └─MaxPool2d: 2-5                    --\n",
              "├─Sequential: 1-2                        --\n",
              "│    └─Conv2d: 2-6                       910\n",
              "│    └─ReLU: 2-7                         --\n",
              "│    └─Conv2d: 2-8                       910\n",
              "│    └─ReLU: 2-9                         --\n",
              "│    └─MaxPool2d: 2-10                   --\n",
              "├─Sequential: 1-3                        --\n",
              "│    └─Flatten: 2-11                     --\n",
              "│    └─Linear: 2-12                      4,910\n",
              "=================================================================\n",
              "Total params: 7,740\n",
              "Trainable params: 7,740\n",
              "Non-trainable params: 0\n",
              "================================================================="
            ]
          },
          "execution_count": 24,
          "metadata": {},
          "output_type": "execute_result"
        }
      ],
      "source": [
        "import torchinfo\n",
        "torchinfo.summary(\"FIXME\")"
      ]
    }
  ],
  "metadata": {
    "colab": {
      "provenance": []
    },
    "kernelspec": {
      "display_name": "Python 3",
      "name": "python3"
    },
    "language_info": {
      "name": "python"
    },
    "widgets": {
      "application/vnd.jupyter.widget-state+json": {
        "22570d51287140fc955f57d8d2a3bd12": {
          "model_module": "@jupyter-widgets/controls",
          "model_module_version": "1.5.0",
          "model_name": "HBoxModel",
          "state": {
            "_dom_classes": [],
            "_model_module": "@jupyter-widgets/controls",
            "_model_module_version": "1.5.0",
            "_model_name": "HBoxModel",
            "_view_count": null,
            "_view_module": "@jupyter-widgets/controls",
            "_view_module_version": "1.5.0",
            "_view_name": "HBoxView",
            "box_style": "",
            "children": [
              "IPY_MODEL_4332b9cf4c994fe29894118de4bb3ede",
              "IPY_MODEL_bcb29d99ace746dfa0a80a9c9d7a49d0",
              "IPY_MODEL_f38df498c2ee49989ec62263d8a80d96"
            ],
            "layout": "IPY_MODEL_e575d6128bda4569b74052e75db7920e"
          }
        },
        "26e3b394a95f4642bea44426f98c22c6": {
          "model_module": "@jupyter-widgets/base",
          "model_module_version": "1.2.0",
          "model_name": "LayoutModel",
          "state": {
            "_model_module": "@jupyter-widgets/base",
            "_model_module_version": "1.2.0",
            "_model_name": "LayoutModel",
            "_view_count": null,
            "_view_module": "@jupyter-widgets/base",
            "_view_module_version": "1.2.0",
            "_view_name": "LayoutView",
            "align_content": null,
            "align_items": null,
            "align_self": null,
            "border": null,
            "bottom": null,
            "display": null,
            "flex": null,
            "flex_flow": null,
            "grid_area": null,
            "grid_auto_columns": null,
            "grid_auto_flow": null,
            "grid_auto_rows": null,
            "grid_column": null,
            "grid_gap": null,
            "grid_row": null,
            "grid_template_areas": null,
            "grid_template_columns": null,
            "grid_template_rows": null,
            "height": null,
            "justify_content": null,
            "justify_items": null,
            "left": null,
            "margin": null,
            "max_height": null,
            "max_width": null,
            "min_height": null,
            "min_width": null,
            "object_fit": null,
            "object_position": null,
            "order": null,
            "overflow": null,
            "overflow_x": null,
            "overflow_y": null,
            "padding": null,
            "right": null,
            "top": null,
            "visibility": null,
            "width": null
          }
        },
        "310ccfb152ec43b09aebc305a5744273": {
          "model_module": "@jupyter-widgets/controls",
          "model_module_version": "1.5.0",
          "model_name": "DescriptionStyleModel",
          "state": {
            "_model_module": "@jupyter-widgets/controls",
            "_model_module_version": "1.5.0",
            "_model_name": "DescriptionStyleModel",
            "_view_count": null,
            "_view_module": "@jupyter-widgets/base",
            "_view_module_version": "1.2.0",
            "_view_name": "StyleView",
            "description_width": ""
          }
        },
        "342f9bfc39e54485b5d3fbab076a3247": {
          "model_module": "@jupyter-widgets/controls",
          "model_module_version": "1.5.0",
          "model_name": "HTMLModel",
          "state": {
            "_dom_classes": [],
            "_model_module": "@jupyter-widgets/controls",
            "_model_module_version": "1.5.0",
            "_model_name": "HTMLModel",
            "_view_count": null,
            "_view_module": "@jupyter-widgets/controls",
            "_view_module_version": "1.5.0",
            "_view_name": "HTMLView",
            "description": "",
            "description_tooltip": null,
            "layout": "IPY_MODEL_e00c9127f9e7499998206daebb98dc1f",
            "placeholder": "​",
            "style": "IPY_MODEL_310ccfb152ec43b09aebc305a5744273",
            "value": " 3/3 [03:01&lt;00:00, 60.03s/it]"
          }
        },
        "387faf3eef2e498e8b13f901cc65e2eb": {
          "model_module": "@jupyter-widgets/controls",
          "model_module_version": "1.5.0",
          "model_name": "ProgressStyleModel",
          "state": {
            "_model_module": "@jupyter-widgets/controls",
            "_model_module_version": "1.5.0",
            "_model_name": "ProgressStyleModel",
            "_view_count": null,
            "_view_module": "@jupyter-widgets/base",
            "_view_module_version": "1.2.0",
            "_view_name": "StyleView",
            "bar_color": null,
            "description_width": ""
          }
        },
        "3ab74030e483470b8adc8e7f111a4368": {
          "model_module": "@jupyter-widgets/controls",
          "model_module_version": "1.5.0",
          "model_name": "DescriptionStyleModel",
          "state": {
            "_model_module": "@jupyter-widgets/controls",
            "_model_module_version": "1.5.0",
            "_model_name": "DescriptionStyleModel",
            "_view_count": null,
            "_view_module": "@jupyter-widgets/base",
            "_view_module_version": "1.2.0",
            "_view_name": "StyleView",
            "description_width": ""
          }
        },
        "4332b9cf4c994fe29894118de4bb3ede": {
          "model_module": "@jupyter-widgets/controls",
          "model_module_version": "1.5.0",
          "model_name": "HTMLModel",
          "state": {
            "_dom_classes": [],
            "_model_module": "@jupyter-widgets/controls",
            "_model_module_version": "1.5.0",
            "_model_name": "HTMLModel",
            "_view_count": null,
            "_view_module": "@jupyter-widgets/controls",
            "_view_module_version": "1.5.0",
            "_view_name": "HTMLView",
            "description": "",
            "description_tooltip": null,
            "layout": "IPY_MODEL_6c1e7e5b4ff747de9ae0483f24e2f70b",
            "placeholder": "​",
            "style": "IPY_MODEL_3ab74030e483470b8adc8e7f111a4368",
            "value": "100%"
          }
        },
        "5d5c1e9a3ce74484b94daa529aadbc6a": {
          "model_module": "@jupyter-widgets/controls",
          "model_module_version": "1.5.0",
          "model_name": "HTMLModel",
          "state": {
            "_dom_classes": [],
            "_model_module": "@jupyter-widgets/controls",
            "_model_module_version": "1.5.0",
            "_model_name": "HTMLModel",
            "_view_count": null,
            "_view_module": "@jupyter-widgets/controls",
            "_view_module_version": "1.5.0",
            "_view_name": "HTMLView",
            "description": "",
            "description_tooltip": null,
            "layout": "IPY_MODEL_d288bb5d54f14156bacced56f619cc46",
            "placeholder": "​",
            "style": "IPY_MODEL_6378856632814f6e8936b129318b7007",
            "value": "100%"
          }
        },
        "6378856632814f6e8936b129318b7007": {
          "model_module": "@jupyter-widgets/controls",
          "model_module_version": "1.5.0",
          "model_name": "DescriptionStyleModel",
          "state": {
            "_model_module": "@jupyter-widgets/controls",
            "_model_module_version": "1.5.0",
            "_model_name": "DescriptionStyleModel",
            "_view_count": null,
            "_view_module": "@jupyter-widgets/base",
            "_view_module_version": "1.2.0",
            "_view_name": "StyleView",
            "description_width": ""
          }
        },
        "6c1e7e5b4ff747de9ae0483f24e2f70b": {
          "model_module": "@jupyter-widgets/base",
          "model_module_version": "1.2.0",
          "model_name": "LayoutModel",
          "state": {
            "_model_module": "@jupyter-widgets/base",
            "_model_module_version": "1.2.0",
            "_model_name": "LayoutModel",
            "_view_count": null,
            "_view_module": "@jupyter-widgets/base",
            "_view_module_version": "1.2.0",
            "_view_name": "LayoutView",
            "align_content": null,
            "align_items": null,
            "align_self": null,
            "border": null,
            "bottom": null,
            "display": null,
            "flex": null,
            "flex_flow": null,
            "grid_area": null,
            "grid_auto_columns": null,
            "grid_auto_flow": null,
            "grid_auto_rows": null,
            "grid_column": null,
            "grid_gap": null,
            "grid_row": null,
            "grid_template_areas": null,
            "grid_template_columns": null,
            "grid_template_rows": null,
            "height": null,
            "justify_content": null,
            "justify_items": null,
            "left": null,
            "margin": null,
            "max_height": null,
            "max_width": null,
            "min_height": null,
            "min_width": null,
            "object_fit": null,
            "object_position": null,
            "order": null,
            "overflow": null,
            "overflow_x": null,
            "overflow_y": null,
            "padding": null,
            "right": null,
            "top": null,
            "visibility": null,
            "width": null
          }
        },
        "81ca36b9233d48099bcdb05d8c61831c": {
          "model_module": "@jupyter-widgets/controls",
          "model_module_version": "1.5.0",
          "model_name": "FloatProgressModel",
          "state": {
            "_dom_classes": [],
            "_model_module": "@jupyter-widgets/controls",
            "_model_module_version": "1.5.0",
            "_model_name": "FloatProgressModel",
            "_view_count": null,
            "_view_module": "@jupyter-widgets/controls",
            "_view_module_version": "1.5.0",
            "_view_name": "ProgressView",
            "bar_style": "success",
            "description": "",
            "description_tooltip": null,
            "layout": "IPY_MODEL_9c14bc2afb2e464c96c3c3e952ab5c05",
            "max": 3,
            "min": 0,
            "orientation": "horizontal",
            "style": "IPY_MODEL_92ac9292267a40a3a3753687175c048c",
            "value": 3
          }
        },
        "92ac9292267a40a3a3753687175c048c": {
          "model_module": "@jupyter-widgets/controls",
          "model_module_version": "1.5.0",
          "model_name": "ProgressStyleModel",
          "state": {
            "_model_module": "@jupyter-widgets/controls",
            "_model_module_version": "1.5.0",
            "_model_name": "ProgressStyleModel",
            "_view_count": null,
            "_view_module": "@jupyter-widgets/base",
            "_view_module_version": "1.2.0",
            "_view_name": "StyleView",
            "bar_color": null,
            "description_width": ""
          }
        },
        "9c14bc2afb2e464c96c3c3e952ab5c05": {
          "model_module": "@jupyter-widgets/base",
          "model_module_version": "1.2.0",
          "model_name": "LayoutModel",
          "state": {
            "_model_module": "@jupyter-widgets/base",
            "_model_module_version": "1.2.0",
            "_model_name": "LayoutModel",
            "_view_count": null,
            "_view_module": "@jupyter-widgets/base",
            "_view_module_version": "1.2.0",
            "_view_name": "LayoutView",
            "align_content": null,
            "align_items": null,
            "align_self": null,
            "border": null,
            "bottom": null,
            "display": null,
            "flex": null,
            "flex_flow": null,
            "grid_area": null,
            "grid_auto_columns": null,
            "grid_auto_flow": null,
            "grid_auto_rows": null,
            "grid_column": null,
            "grid_gap": null,
            "grid_row": null,
            "grid_template_areas": null,
            "grid_template_columns": null,
            "grid_template_rows": null,
            "height": null,
            "justify_content": null,
            "justify_items": null,
            "left": null,
            "margin": null,
            "max_height": null,
            "max_width": null,
            "min_height": null,
            "min_width": null,
            "object_fit": null,
            "object_position": null,
            "order": null,
            "overflow": null,
            "overflow_x": null,
            "overflow_y": null,
            "padding": null,
            "right": null,
            "top": null,
            "visibility": null,
            "width": null
          }
        },
        "a52d4fc179c14b8a9c620ac173f824f7": {
          "model_module": "@jupyter-widgets/controls",
          "model_module_version": "1.5.0",
          "model_name": "DescriptionStyleModel",
          "state": {
            "_model_module": "@jupyter-widgets/controls",
            "_model_module_version": "1.5.0",
            "_model_name": "DescriptionStyleModel",
            "_view_count": null,
            "_view_module": "@jupyter-widgets/base",
            "_view_module_version": "1.2.0",
            "_view_name": "StyleView",
            "description_width": ""
          }
        },
        "a890a561a10c4a64918b02a14d53cc20": {
          "model_module": "@jupyter-widgets/base",
          "model_module_version": "1.2.0",
          "model_name": "LayoutModel",
          "state": {
            "_model_module": "@jupyter-widgets/base",
            "_model_module_version": "1.2.0",
            "_model_name": "LayoutModel",
            "_view_count": null,
            "_view_module": "@jupyter-widgets/base",
            "_view_module_version": "1.2.0",
            "_view_name": "LayoutView",
            "align_content": null,
            "align_items": null,
            "align_self": null,
            "border": null,
            "bottom": null,
            "display": null,
            "flex": null,
            "flex_flow": null,
            "grid_area": null,
            "grid_auto_columns": null,
            "grid_auto_flow": null,
            "grid_auto_rows": null,
            "grid_column": null,
            "grid_gap": null,
            "grid_row": null,
            "grid_template_areas": null,
            "grid_template_columns": null,
            "grid_template_rows": null,
            "height": null,
            "justify_content": null,
            "justify_items": null,
            "left": null,
            "margin": null,
            "max_height": null,
            "max_width": null,
            "min_height": null,
            "min_width": null,
            "object_fit": null,
            "object_position": null,
            "order": null,
            "overflow": null,
            "overflow_x": null,
            "overflow_y": null,
            "padding": null,
            "right": null,
            "top": null,
            "visibility": null,
            "width": null
          }
        },
        "b08e986ed9704e62821d28e9f208bc59": {
          "model_module": "@jupyter-widgets/base",
          "model_module_version": "1.2.0",
          "model_name": "LayoutModel",
          "state": {
            "_model_module": "@jupyter-widgets/base",
            "_model_module_version": "1.2.0",
            "_model_name": "LayoutModel",
            "_view_count": null,
            "_view_module": "@jupyter-widgets/base",
            "_view_module_version": "1.2.0",
            "_view_name": "LayoutView",
            "align_content": null,
            "align_items": null,
            "align_self": null,
            "border": null,
            "bottom": null,
            "display": null,
            "flex": null,
            "flex_flow": null,
            "grid_area": null,
            "grid_auto_columns": null,
            "grid_auto_flow": null,
            "grid_auto_rows": null,
            "grid_column": null,
            "grid_gap": null,
            "grid_row": null,
            "grid_template_areas": null,
            "grid_template_columns": null,
            "grid_template_rows": null,
            "height": null,
            "justify_content": null,
            "justify_items": null,
            "left": null,
            "margin": null,
            "max_height": null,
            "max_width": null,
            "min_height": null,
            "min_width": null,
            "object_fit": null,
            "object_position": null,
            "order": null,
            "overflow": null,
            "overflow_x": null,
            "overflow_y": null,
            "padding": null,
            "right": null,
            "top": null,
            "visibility": null,
            "width": null
          }
        },
        "bcb29d99ace746dfa0a80a9c9d7a49d0": {
          "model_module": "@jupyter-widgets/controls",
          "model_module_version": "1.5.0",
          "model_name": "FloatProgressModel",
          "state": {
            "_dom_classes": [],
            "_model_module": "@jupyter-widgets/controls",
            "_model_module_version": "1.5.0",
            "_model_name": "FloatProgressModel",
            "_view_count": null,
            "_view_module": "@jupyter-widgets/controls",
            "_view_module_version": "1.5.0",
            "_view_name": "ProgressView",
            "bar_style": "success",
            "description": "",
            "description_tooltip": null,
            "layout": "IPY_MODEL_26e3b394a95f4642bea44426f98c22c6",
            "max": 313,
            "min": 0,
            "orientation": "horizontal",
            "style": "IPY_MODEL_387faf3eef2e498e8b13f901cc65e2eb",
            "value": 313
          }
        },
        "c0db828404604adeb42596bd97a01c6a": {
          "model_module": "@jupyter-widgets/controls",
          "model_module_version": "1.5.0",
          "model_name": "HBoxModel",
          "state": {
            "_dom_classes": [],
            "_model_module": "@jupyter-widgets/controls",
            "_model_module_version": "1.5.0",
            "_model_name": "HBoxModel",
            "_view_count": null,
            "_view_module": "@jupyter-widgets/controls",
            "_view_module_version": "1.5.0",
            "_view_name": "HBoxView",
            "box_style": "",
            "children": [
              "IPY_MODEL_5d5c1e9a3ce74484b94daa529aadbc6a",
              "IPY_MODEL_81ca36b9233d48099bcdb05d8c61831c",
              "IPY_MODEL_342f9bfc39e54485b5d3fbab076a3247"
            ],
            "layout": "IPY_MODEL_a890a561a10c4a64918b02a14d53cc20"
          }
        },
        "d288bb5d54f14156bacced56f619cc46": {
          "model_module": "@jupyter-widgets/base",
          "model_module_version": "1.2.0",
          "model_name": "LayoutModel",
          "state": {
            "_model_module": "@jupyter-widgets/base",
            "_model_module_version": "1.2.0",
            "_model_name": "LayoutModel",
            "_view_count": null,
            "_view_module": "@jupyter-widgets/base",
            "_view_module_version": "1.2.0",
            "_view_name": "LayoutView",
            "align_content": null,
            "align_items": null,
            "align_self": null,
            "border": null,
            "bottom": null,
            "display": null,
            "flex": null,
            "flex_flow": null,
            "grid_area": null,
            "grid_auto_columns": null,
            "grid_auto_flow": null,
            "grid_auto_rows": null,
            "grid_column": null,
            "grid_gap": null,
            "grid_row": null,
            "grid_template_areas": null,
            "grid_template_columns": null,
            "grid_template_rows": null,
            "height": null,
            "justify_content": null,
            "justify_items": null,
            "left": null,
            "margin": null,
            "max_height": null,
            "max_width": null,
            "min_height": null,
            "min_width": null,
            "object_fit": null,
            "object_position": null,
            "order": null,
            "overflow": null,
            "overflow_x": null,
            "overflow_y": null,
            "padding": null,
            "right": null,
            "top": null,
            "visibility": null,
            "width": null
          }
        },
        "e00c9127f9e7499998206daebb98dc1f": {
          "model_module": "@jupyter-widgets/base",
          "model_module_version": "1.2.0",
          "model_name": "LayoutModel",
          "state": {
            "_model_module": "@jupyter-widgets/base",
            "_model_module_version": "1.2.0",
            "_model_name": "LayoutModel",
            "_view_count": null,
            "_view_module": "@jupyter-widgets/base",
            "_view_module_version": "1.2.0",
            "_view_name": "LayoutView",
            "align_content": null,
            "align_items": null,
            "align_self": null,
            "border": null,
            "bottom": null,
            "display": null,
            "flex": null,
            "flex_flow": null,
            "grid_area": null,
            "grid_auto_columns": null,
            "grid_auto_flow": null,
            "grid_auto_rows": null,
            "grid_column": null,
            "grid_gap": null,
            "grid_row": null,
            "grid_template_areas": null,
            "grid_template_columns": null,
            "grid_template_rows": null,
            "height": null,
            "justify_content": null,
            "justify_items": null,
            "left": null,
            "margin": null,
            "max_height": null,
            "max_width": null,
            "min_height": null,
            "min_width": null,
            "object_fit": null,
            "object_position": null,
            "order": null,
            "overflow": null,
            "overflow_x": null,
            "overflow_y": null,
            "padding": null,
            "right": null,
            "top": null,
            "visibility": null,
            "width": null
          }
        },
        "e575d6128bda4569b74052e75db7920e": {
          "model_module": "@jupyter-widgets/base",
          "model_module_version": "1.2.0",
          "model_name": "LayoutModel",
          "state": {
            "_model_module": "@jupyter-widgets/base",
            "_model_module_version": "1.2.0",
            "_model_name": "LayoutModel",
            "_view_count": null,
            "_view_module": "@jupyter-widgets/base",
            "_view_module_version": "1.2.0",
            "_view_name": "LayoutView",
            "align_content": null,
            "align_items": null,
            "align_self": null,
            "border": null,
            "bottom": null,
            "display": null,
            "flex": null,
            "flex_flow": null,
            "grid_area": null,
            "grid_auto_columns": null,
            "grid_auto_flow": null,
            "grid_auto_rows": null,
            "grid_column": null,
            "grid_gap": null,
            "grid_row": null,
            "grid_template_areas": null,
            "grid_template_columns": null,
            "grid_template_rows": null,
            "height": null,
            "justify_content": null,
            "justify_items": null,
            "left": null,
            "margin": null,
            "max_height": null,
            "max_width": null,
            "min_height": null,
            "min_width": null,
            "object_fit": null,
            "object_position": null,
            "order": null,
            "overflow": null,
            "overflow_x": null,
            "overflow_y": null,
            "padding": null,
            "right": null,
            "top": null,
            "visibility": null,
            "width": null
          }
        },
        "f38df498c2ee49989ec62263d8a80d96": {
          "model_module": "@jupyter-widgets/controls",
          "model_module_version": "1.5.0",
          "model_name": "HTMLModel",
          "state": {
            "_dom_classes": [],
            "_model_module": "@jupyter-widgets/controls",
            "_model_module_version": "1.5.0",
            "_model_name": "HTMLModel",
            "_view_count": null,
            "_view_module": "@jupyter-widgets/controls",
            "_view_module_version": "1.5.0",
            "_view_name": "HTMLView",
            "description": "",
            "description_tooltip": null,
            "layout": "IPY_MODEL_b08e986ed9704e62821d28e9f208bc59",
            "placeholder": "​",
            "style": "IPY_MODEL_a52d4fc179c14b8a9c620ac173f824f7",
            "value": " 313/313 [00:05&lt;00:00, 49.62it/s]"
          }
        },
        "521975311f9344008a769e9e64d8017c": {
          "model_module": "@jupyter-widgets/controls",
          "model_name": "HBoxModel",
          "model_module_version": "1.5.0",
          "state": {
            "_dom_classes": [],
            "_model_module": "@jupyter-widgets/controls",
            "_model_module_version": "1.5.0",
            "_model_name": "HBoxModel",
            "_view_count": null,
            "_view_module": "@jupyter-widgets/controls",
            "_view_module_version": "1.5.0",
            "_view_name": "HBoxView",
            "box_style": "",
            "children": [
              "IPY_MODEL_9ac46ab111524c5db2ea7b3cc43adb9c",
              "IPY_MODEL_e37c7ccdc45f4106aa14c5f6b6133401",
              "IPY_MODEL_bfcc1d94320842c2a36f9eecf788f422"
            ],
            "layout": "IPY_MODEL_3e88ac58d9c5415c86e1c4600fb10989"
          }
        },
        "9ac46ab111524c5db2ea7b3cc43adb9c": {
          "model_module": "@jupyter-widgets/controls",
          "model_name": "HTMLModel",
          "model_module_version": "1.5.0",
          "state": {
            "_dom_classes": [],
            "_model_module": "@jupyter-widgets/controls",
            "_model_module_version": "1.5.0",
            "_model_name": "HTMLModel",
            "_view_count": null,
            "_view_module": "@jupyter-widgets/controls",
            "_view_module_version": "1.5.0",
            "_view_name": "HTMLView",
            "description": "",
            "description_tooltip": null,
            "layout": "IPY_MODEL_bbac78127f8c4050898c3e18a5d4f831",
            "placeholder": "​",
            "style": "IPY_MODEL_7130990077e8446a8ab3b7aa05c7a0e3",
            "value": "100%"
          }
        },
        "e37c7ccdc45f4106aa14c5f6b6133401": {
          "model_module": "@jupyter-widgets/controls",
          "model_name": "FloatProgressModel",
          "model_module_version": "1.5.0",
          "state": {
            "_dom_classes": [],
            "_model_module": "@jupyter-widgets/controls",
            "_model_module_version": "1.5.0",
            "_model_name": "FloatProgressModel",
            "_view_count": null,
            "_view_module": "@jupyter-widgets/controls",
            "_view_module_version": "1.5.0",
            "_view_name": "ProgressView",
            "bar_style": "success",
            "description": "",
            "description_tooltip": null,
            "layout": "IPY_MODEL_0ade454073f84162b3c6325ac1e1857b",
            "max": 1,
            "min": 0,
            "orientation": "horizontal",
            "style": "IPY_MODEL_5cea8615fe8345fea26532e8667a956a",
            "value": 1
          }
        },
        "bfcc1d94320842c2a36f9eecf788f422": {
          "model_module": "@jupyter-widgets/controls",
          "model_name": "HTMLModel",
          "model_module_version": "1.5.0",
          "state": {
            "_dom_classes": [],
            "_model_module": "@jupyter-widgets/controls",
            "_model_module_version": "1.5.0",
            "_model_name": "HTMLModel",
            "_view_count": null,
            "_view_module": "@jupyter-widgets/controls",
            "_view_module_version": "1.5.0",
            "_view_name": "HTMLView",
            "description": "",
            "description_tooltip": null,
            "layout": "IPY_MODEL_722ecc277b974809a6630a2fae37c399",
            "placeholder": "​",
            "style": "IPY_MODEL_97a250ed847344aeb998d74bb1b962cc",
            "value": " 1/1 [01:23&lt;00:00, 83.60s/it]"
          }
        },
        "3e88ac58d9c5415c86e1c4600fb10989": {
          "model_module": "@jupyter-widgets/base",
          "model_name": "LayoutModel",
          "model_module_version": "1.2.0",
          "state": {
            "_model_module": "@jupyter-widgets/base",
            "_model_module_version": "1.2.0",
            "_model_name": "LayoutModel",
            "_view_count": null,
            "_view_module": "@jupyter-widgets/base",
            "_view_module_version": "1.2.0",
            "_view_name": "LayoutView",
            "align_content": null,
            "align_items": null,
            "align_self": null,
            "border": null,
            "bottom": null,
            "display": null,
            "flex": null,
            "flex_flow": null,
            "grid_area": null,
            "grid_auto_columns": null,
            "grid_auto_flow": null,
            "grid_auto_rows": null,
            "grid_column": null,
            "grid_gap": null,
            "grid_row": null,
            "grid_template_areas": null,
            "grid_template_columns": null,
            "grid_template_rows": null,
            "height": null,
            "justify_content": null,
            "justify_items": null,
            "left": null,
            "margin": null,
            "max_height": null,
            "max_width": null,
            "min_height": null,
            "min_width": null,
            "object_fit": null,
            "object_position": null,
            "order": null,
            "overflow": null,
            "overflow_x": null,
            "overflow_y": null,
            "padding": null,
            "right": null,
            "top": null,
            "visibility": null,
            "width": null
          }
        },
        "bbac78127f8c4050898c3e18a5d4f831": {
          "model_module": "@jupyter-widgets/base",
          "model_name": "LayoutModel",
          "model_module_version": "1.2.0",
          "state": {
            "_model_module": "@jupyter-widgets/base",
            "_model_module_version": "1.2.0",
            "_model_name": "LayoutModel",
            "_view_count": null,
            "_view_module": "@jupyter-widgets/base",
            "_view_module_version": "1.2.0",
            "_view_name": "LayoutView",
            "align_content": null,
            "align_items": null,
            "align_self": null,
            "border": null,
            "bottom": null,
            "display": null,
            "flex": null,
            "flex_flow": null,
            "grid_area": null,
            "grid_auto_columns": null,
            "grid_auto_flow": null,
            "grid_auto_rows": null,
            "grid_column": null,
            "grid_gap": null,
            "grid_row": null,
            "grid_template_areas": null,
            "grid_template_columns": null,
            "grid_template_rows": null,
            "height": null,
            "justify_content": null,
            "justify_items": null,
            "left": null,
            "margin": null,
            "max_height": null,
            "max_width": null,
            "min_height": null,
            "min_width": null,
            "object_fit": null,
            "object_position": null,
            "order": null,
            "overflow": null,
            "overflow_x": null,
            "overflow_y": null,
            "padding": null,
            "right": null,
            "top": null,
            "visibility": null,
            "width": null
          }
        },
        "7130990077e8446a8ab3b7aa05c7a0e3": {
          "model_module": "@jupyter-widgets/controls",
          "model_name": "DescriptionStyleModel",
          "model_module_version": "1.5.0",
          "state": {
            "_model_module": "@jupyter-widgets/controls",
            "_model_module_version": "1.5.0",
            "_model_name": "DescriptionStyleModel",
            "_view_count": null,
            "_view_module": "@jupyter-widgets/base",
            "_view_module_version": "1.2.0",
            "_view_name": "StyleView",
            "description_width": ""
          }
        },
        "0ade454073f84162b3c6325ac1e1857b": {
          "model_module": "@jupyter-widgets/base",
          "model_name": "LayoutModel",
          "model_module_version": "1.2.0",
          "state": {
            "_model_module": "@jupyter-widgets/base",
            "_model_module_version": "1.2.0",
            "_model_name": "LayoutModel",
            "_view_count": null,
            "_view_module": "@jupyter-widgets/base",
            "_view_module_version": "1.2.0",
            "_view_name": "LayoutView",
            "align_content": null,
            "align_items": null,
            "align_self": null,
            "border": null,
            "bottom": null,
            "display": null,
            "flex": null,
            "flex_flow": null,
            "grid_area": null,
            "grid_auto_columns": null,
            "grid_auto_flow": null,
            "grid_auto_rows": null,
            "grid_column": null,
            "grid_gap": null,
            "grid_row": null,
            "grid_template_areas": null,
            "grid_template_columns": null,
            "grid_template_rows": null,
            "height": null,
            "justify_content": null,
            "justify_items": null,
            "left": null,
            "margin": null,
            "max_height": null,
            "max_width": null,
            "min_height": null,
            "min_width": null,
            "object_fit": null,
            "object_position": null,
            "order": null,
            "overflow": null,
            "overflow_x": null,
            "overflow_y": null,
            "padding": null,
            "right": null,
            "top": null,
            "visibility": null,
            "width": null
          }
        },
        "5cea8615fe8345fea26532e8667a956a": {
          "model_module": "@jupyter-widgets/controls",
          "model_name": "ProgressStyleModel",
          "model_module_version": "1.5.0",
          "state": {
            "_model_module": "@jupyter-widgets/controls",
            "_model_module_version": "1.5.0",
            "_model_name": "ProgressStyleModel",
            "_view_count": null,
            "_view_module": "@jupyter-widgets/base",
            "_view_module_version": "1.2.0",
            "_view_name": "StyleView",
            "bar_color": null,
            "description_width": ""
          }
        },
        "722ecc277b974809a6630a2fae37c399": {
          "model_module": "@jupyter-widgets/base",
          "model_name": "LayoutModel",
          "model_module_version": "1.2.0",
          "state": {
            "_model_module": "@jupyter-widgets/base",
            "_model_module_version": "1.2.0",
            "_model_name": "LayoutModel",
            "_view_count": null,
            "_view_module": "@jupyter-widgets/base",
            "_view_module_version": "1.2.0",
            "_view_name": "LayoutView",
            "align_content": null,
            "align_items": null,
            "align_self": null,
            "border": null,
            "bottom": null,
            "display": null,
            "flex": null,
            "flex_flow": null,
            "grid_area": null,
            "grid_auto_columns": null,
            "grid_auto_flow": null,
            "grid_auto_rows": null,
            "grid_column": null,
            "grid_gap": null,
            "grid_row": null,
            "grid_template_areas": null,
            "grid_template_columns": null,
            "grid_template_rows": null,
            "height": null,
            "justify_content": null,
            "justify_items": null,
            "left": null,
            "margin": null,
            "max_height": null,
            "max_width": null,
            "min_height": null,
            "min_width": null,
            "object_fit": null,
            "object_position": null,
            "order": null,
            "overflow": null,
            "overflow_x": null,
            "overflow_y": null,
            "padding": null,
            "right": null,
            "top": null,
            "visibility": null,
            "width": null
          }
        },
        "97a250ed847344aeb998d74bb1b962cc": {
          "model_module": "@jupyter-widgets/controls",
          "model_name": "DescriptionStyleModel",
          "model_module_version": "1.5.0",
          "state": {
            "_model_module": "@jupyter-widgets/controls",
            "_model_module_version": "1.5.0",
            "_model_name": "DescriptionStyleModel",
            "_view_count": null,
            "_view_module": "@jupyter-widgets/base",
            "_view_module_version": "1.2.0",
            "_view_name": "StyleView",
            "description_width": ""
          }
        },
        "101a69391cbe4b9e8d06e94a3659fdcc": {
          "model_module": "@jupyter-widgets/controls",
          "model_name": "HBoxModel",
          "model_module_version": "1.5.0",
          "state": {
            "_dom_classes": [],
            "_model_module": "@jupyter-widgets/controls",
            "_model_module_version": "1.5.0",
            "_model_name": "HBoxModel",
            "_view_count": null,
            "_view_module": "@jupyter-widgets/controls",
            "_view_module_version": "1.5.0",
            "_view_name": "HBoxView",
            "box_style": "",
            "children": [
              "IPY_MODEL_1002fb5909c643778c9386d08338cb40",
              "IPY_MODEL_2383a1f567d84aec93d714ebf09b9197",
              "IPY_MODEL_3dc0666cba204b05bcfb1ef70af4abb1"
            ],
            "layout": "IPY_MODEL_229f88128fc947239ce20e56d6da7fcd"
          }
        },
        "1002fb5909c643778c9386d08338cb40": {
          "model_module": "@jupyter-widgets/controls",
          "model_name": "HTMLModel",
          "model_module_version": "1.5.0",
          "state": {
            "_dom_classes": [],
            "_model_module": "@jupyter-widgets/controls",
            "_model_module_version": "1.5.0",
            "_model_name": "HTMLModel",
            "_view_count": null,
            "_view_module": "@jupyter-widgets/controls",
            "_view_module_version": "1.5.0",
            "_view_name": "HTMLView",
            "description": "",
            "description_tooltip": null,
            "layout": "IPY_MODEL_87b58327a15449a6bf868d3de39699fb",
            "placeholder": "​",
            "style": "IPY_MODEL_02cdaa9b8d384b03adab6411e6a6de41",
            "value": "100%"
          }
        },
        "2383a1f567d84aec93d714ebf09b9197": {
          "model_module": "@jupyter-widgets/controls",
          "model_name": "FloatProgressModel",
          "model_module_version": "1.5.0",
          "state": {
            "_dom_classes": [],
            "_model_module": "@jupyter-widgets/controls",
            "_model_module_version": "1.5.0",
            "_model_name": "FloatProgressModel",
            "_view_count": null,
            "_view_module": "@jupyter-widgets/controls",
            "_view_module_version": "1.5.0",
            "_view_name": "ProgressView",
            "bar_style": "success",
            "description": "",
            "description_tooltip": null,
            "layout": "IPY_MODEL_7575549cb8b447a7bae780c9facc0717",
            "max": 313,
            "min": 0,
            "orientation": "horizontal",
            "style": "IPY_MODEL_eaca30cbd80e402a8e79aa65770c96cf",
            "value": 313
          }
        },
        "3dc0666cba204b05bcfb1ef70af4abb1": {
          "model_module": "@jupyter-widgets/controls",
          "model_name": "HTMLModel",
          "model_module_version": "1.5.0",
          "state": {
            "_dom_classes": [],
            "_model_module": "@jupyter-widgets/controls",
            "_model_module_version": "1.5.0",
            "_model_name": "HTMLModel",
            "_view_count": null,
            "_view_module": "@jupyter-widgets/controls",
            "_view_module_version": "1.5.0",
            "_view_name": "HTMLView",
            "description": "",
            "description_tooltip": null,
            "layout": "IPY_MODEL_2f44762e488b4bc3a0f145b426871b6b",
            "placeholder": "​",
            "style": "IPY_MODEL_3c0fb51c4c464eaea088d8fdd216ba87",
            "value": " 313/313 [00:05&lt;00:00, 68.78it/s]"
          }
        },
        "229f88128fc947239ce20e56d6da7fcd": {
          "model_module": "@jupyter-widgets/base",
          "model_name": "LayoutModel",
          "model_module_version": "1.2.0",
          "state": {
            "_model_module": "@jupyter-widgets/base",
            "_model_module_version": "1.2.0",
            "_model_name": "LayoutModel",
            "_view_count": null,
            "_view_module": "@jupyter-widgets/base",
            "_view_module_version": "1.2.0",
            "_view_name": "LayoutView",
            "align_content": null,
            "align_items": null,
            "align_self": null,
            "border": null,
            "bottom": null,
            "display": null,
            "flex": null,
            "flex_flow": null,
            "grid_area": null,
            "grid_auto_columns": null,
            "grid_auto_flow": null,
            "grid_auto_rows": null,
            "grid_column": null,
            "grid_gap": null,
            "grid_row": null,
            "grid_template_areas": null,
            "grid_template_columns": null,
            "grid_template_rows": null,
            "height": null,
            "justify_content": null,
            "justify_items": null,
            "left": null,
            "margin": null,
            "max_height": null,
            "max_width": null,
            "min_height": null,
            "min_width": null,
            "object_fit": null,
            "object_position": null,
            "order": null,
            "overflow": null,
            "overflow_x": null,
            "overflow_y": null,
            "padding": null,
            "right": null,
            "top": null,
            "visibility": null,
            "width": null
          }
        },
        "87b58327a15449a6bf868d3de39699fb": {
          "model_module": "@jupyter-widgets/base",
          "model_name": "LayoutModel",
          "model_module_version": "1.2.0",
          "state": {
            "_model_module": "@jupyter-widgets/base",
            "_model_module_version": "1.2.0",
            "_model_name": "LayoutModel",
            "_view_count": null,
            "_view_module": "@jupyter-widgets/base",
            "_view_module_version": "1.2.0",
            "_view_name": "LayoutView",
            "align_content": null,
            "align_items": null,
            "align_self": null,
            "border": null,
            "bottom": null,
            "display": null,
            "flex": null,
            "flex_flow": null,
            "grid_area": null,
            "grid_auto_columns": null,
            "grid_auto_flow": null,
            "grid_auto_rows": null,
            "grid_column": null,
            "grid_gap": null,
            "grid_row": null,
            "grid_template_areas": null,
            "grid_template_columns": null,
            "grid_template_rows": null,
            "height": null,
            "justify_content": null,
            "justify_items": null,
            "left": null,
            "margin": null,
            "max_height": null,
            "max_width": null,
            "min_height": null,
            "min_width": null,
            "object_fit": null,
            "object_position": null,
            "order": null,
            "overflow": null,
            "overflow_x": null,
            "overflow_y": null,
            "padding": null,
            "right": null,
            "top": null,
            "visibility": null,
            "width": null
          }
        },
        "02cdaa9b8d384b03adab6411e6a6de41": {
          "model_module": "@jupyter-widgets/controls",
          "model_name": "DescriptionStyleModel",
          "model_module_version": "1.5.0",
          "state": {
            "_model_module": "@jupyter-widgets/controls",
            "_model_module_version": "1.5.0",
            "_model_name": "DescriptionStyleModel",
            "_view_count": null,
            "_view_module": "@jupyter-widgets/base",
            "_view_module_version": "1.2.0",
            "_view_name": "StyleView",
            "description_width": ""
          }
        },
        "7575549cb8b447a7bae780c9facc0717": {
          "model_module": "@jupyter-widgets/base",
          "model_name": "LayoutModel",
          "model_module_version": "1.2.0",
          "state": {
            "_model_module": "@jupyter-widgets/base",
            "_model_module_version": "1.2.0",
            "_model_name": "LayoutModel",
            "_view_count": null,
            "_view_module": "@jupyter-widgets/base",
            "_view_module_version": "1.2.0",
            "_view_name": "LayoutView",
            "align_content": null,
            "align_items": null,
            "align_self": null,
            "border": null,
            "bottom": null,
            "display": null,
            "flex": null,
            "flex_flow": null,
            "grid_area": null,
            "grid_auto_columns": null,
            "grid_auto_flow": null,
            "grid_auto_rows": null,
            "grid_column": null,
            "grid_gap": null,
            "grid_row": null,
            "grid_template_areas": null,
            "grid_template_columns": null,
            "grid_template_rows": null,
            "height": null,
            "justify_content": null,
            "justify_items": null,
            "left": null,
            "margin": null,
            "max_height": null,
            "max_width": null,
            "min_height": null,
            "min_width": null,
            "object_fit": null,
            "object_position": null,
            "order": null,
            "overflow": null,
            "overflow_x": null,
            "overflow_y": null,
            "padding": null,
            "right": null,
            "top": null,
            "visibility": null,
            "width": null
          }
        },
        "eaca30cbd80e402a8e79aa65770c96cf": {
          "model_module": "@jupyter-widgets/controls",
          "model_name": "ProgressStyleModel",
          "model_module_version": "1.5.0",
          "state": {
            "_model_module": "@jupyter-widgets/controls",
            "_model_module_version": "1.5.0",
            "_model_name": "ProgressStyleModel",
            "_view_count": null,
            "_view_module": "@jupyter-widgets/base",
            "_view_module_version": "1.2.0",
            "_view_name": "StyleView",
            "bar_color": null,
            "description_width": ""
          }
        },
        "2f44762e488b4bc3a0f145b426871b6b": {
          "model_module": "@jupyter-widgets/base",
          "model_name": "LayoutModel",
          "model_module_version": "1.2.0",
          "state": {
            "_model_module": "@jupyter-widgets/base",
            "_model_module_version": "1.2.0",
            "_model_name": "LayoutModel",
            "_view_count": null,
            "_view_module": "@jupyter-widgets/base",
            "_view_module_version": "1.2.0",
            "_view_name": "LayoutView",
            "align_content": null,
            "align_items": null,
            "align_self": null,
            "border": null,
            "bottom": null,
            "display": null,
            "flex": null,
            "flex_flow": null,
            "grid_area": null,
            "grid_auto_columns": null,
            "grid_auto_flow": null,
            "grid_auto_rows": null,
            "grid_column": null,
            "grid_gap": null,
            "grid_row": null,
            "grid_template_areas": null,
            "grid_template_columns": null,
            "grid_template_rows": null,
            "height": null,
            "justify_content": null,
            "justify_items": null,
            "left": null,
            "margin": null,
            "max_height": null,
            "max_width": null,
            "min_height": null,
            "min_width": null,
            "object_fit": null,
            "object_position": null,
            "order": null,
            "overflow": null,
            "overflow_x": null,
            "overflow_y": null,
            "padding": null,
            "right": null,
            "top": null,
            "visibility": null,
            "width": null
          }
        },
        "3c0fb51c4c464eaea088d8fdd216ba87": {
          "model_module": "@jupyter-widgets/controls",
          "model_name": "DescriptionStyleModel",
          "model_module_version": "1.5.0",
          "state": {
            "_model_module": "@jupyter-widgets/controls",
            "_model_module_version": "1.5.0",
            "_model_name": "DescriptionStyleModel",
            "_view_count": null,
            "_view_module": "@jupyter-widgets/base",
            "_view_module_version": "1.2.0",
            "_view_name": "StyleView",
            "description_width": ""
          }
        }
      }
    }
  },
  "nbformat": 4,
  "nbformat_minor": 0
}